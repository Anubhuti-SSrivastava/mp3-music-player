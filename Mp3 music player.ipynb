{
 "cells": [
  {
   "cell_type": "code",
   "execution_count": null,
   "id": "9836b928",
   "metadata": {},
   "outputs": [],
   "source": [
    "#anubhuti srivastava "
   ]
  },
  {
   "cell_type": "markdown",
   "id": "4ce27ef5",
   "metadata": {},
   "source": [
    "# MP3 PLAYER DOWNLOAD"
   ]
  },
  {
   "cell_type": "markdown",
   "id": "889468c2",
   "metadata": {},
   "source": [
    "# IMPORT"
   ]
  },
  {
   "cell_type": "code",
   "execution_count": null,
   "id": "289b00ed",
   "metadata": {},
   "outputs": [],
   "source": [
    "from tkinter import *\n",
    "from tkinter import Tk\n",
    "from tkinter import filedialog\n",
    "!pip install pygame\n",
    "\n",
    "from pygame import mixer\n",
    "import os"
   ]
  },
  {
   "cell_type": "markdown",
   "id": "ff571cb7",
   "metadata": {},
   "source": [
    "# Initializing root window"
   ]
  },
  {
   "cell_type": "code",
   "execution_count": null,
   "id": "67f2a216",
   "metadata": {},
   "outputs": [],
   "source": [
    "root=Tk()\n",
    "root.title('Music player project by Anamay Tripathi')\n",
    "root.geometry(\"920x670+290+85\")\n",
    "root.configure(bg= \"#0f1a2b\")\n",
    "root.resizable(False, False)\n",
    "mixer.init()"
   ]
  },
  {
   "cell_type": "markdown",
   "id": "fb565600",
   "metadata": {},
   "source": [
    "# Create music player functions to player mp3"
   ]
  },
  {
   "cell_type": "code",
   "execution_count": null,
   "id": "9af3f364",
   "metadata": {},
   "outputs": [],
   "source": [
    "def Add_Music():\n",
    "    path = filedialog.askdirectory()\n",
    "    if path:\n",
    "        os.chdir(path)\n",
    "        songs = os.listdire(path)\n",
    " \n",
    "        for song in songs:\n",
    "            if song.endswith(\".mp3\"):\n",
    "                Playlist.insert(END, song)\n",
    " \n",
    "def Play_Music():\n",
    "    Music_Name= Playlist.get(ACTIVE)\n",
    "    print(Music_Name[0:-4])\n",
    "    mixer.music.load(Playlist.get(ACTIVE))\n",
    "    mixer.music.play()"
   ]
  },
  {
   "cell_type": "markdown",
   "id": "b0009046",
   "metadata": {},
   "source": [
    "# Make icon and logo"
   ]
  },
  {
   "cell_type": "code",
   "execution_count": null,
   "id": "2b033ae5",
   "metadata": {},
   "outputs": [],
   "source": [
    "Icon_Image = PhotoImage(file=r\"C:\\Users\\HP\\Downloads\\alexander-shatov-qt7S2QuAhJI-unsplash.jpg\")\n",
    "root.iconphoto(False,Icon_Image = PhotoImage(file=r\"C:\\Users\\HP\\Downloads\\—Pngtree—violin piano instrument musical logo_5004423.png\"))\n",
    " \n",
    "Top_Image = PhotoImage(file=r\"C:\\Users\\HP\\OneDrive\\Desktop\\bootstrap\\images\\aa.jpg\")\n",
    "Label(root, image=Top_Image, bg=\"#0f1a2b\").pack()\n",
    " \n",
    "#logo\n",
    "logo_Image = PhotoImage(file=r\"C:\\Users\\HP\\Downloads\\alexander-shatov-qt7S2QuAhJI-unsplash.jpg\")\n",
    "Label(root, image=logo_Image, bg=\"#0f1a2b\").place(x=65, y=115)"
   ]
  },
  {
   "cell_type": "markdown",
   "id": "28f9c2c6",
   "metadata": {},
   "source": [
    "# Create music player buttons"
   ]
  },
  {
   "cell_type": "code",
   "execution_count": null,
   "id": "74f24f77",
   "metadata": {},
   "outputs": [],
   "source": [
    "# Button\n",
    "Button_Play = PhotoImage(file=r\"C:\\Users\\HP\\OneDrive\\Pictures\\play.png\")\n",
    "Button(root, image=Button_Play, bg=\"#0f1a2b\", bd=0, command=Play_Music).place(x=30, y=100)\n",
    "Button_Play = PhotoImage(file=r\"C:\\Users\\HP\\OneDrive\\Pictures\\mm.png\")\n",
    "Button(root, image=Button_Play, bg=\"#0f1a2b\", bd=0, command=Play_Music).place(x=90, y=80)\n",
    " \n",
    "Button_Resume = PhotoImage(file=\"images/resume.png\")\n",
    "Button(root, image=Button_Resume, bg=\"#0f1a2b\", bd=0, command=mixer.music.unpause).place(x=115, y=500)\n",
    " \n",
    "Button_Pause = PhotoImage(file=\"images/pause.png\")\n",
    "Button(root, image=Button_Pause, bg=\"#0f1a2b\", bd=0, command=mixer.music.pause).place(x=200, y=500)\n",
    "#music\n",
    "\n",
    " \n",
    "Frame_Music = Frame(root, bd=2, relief = RIDGE)\n",
    "Frame_Music.place(x=330, y=350, width=150, height=150)\n",
    " \n",
    "Button(root, text=\"Add Music\", width=15, height=2, font=(\"times new roman\",12,\"bold\"),fg=\"Black\", bg=\"#21b3de\", command= Add_Music).place(x=330, y=300)\n",
    " \n",
    "Scroll = Scrollbar(Frame_Music)\n",
    "Playlist = Listbox(Frame_Music, width=30, font=(\"Times new roman\",10), bg=\"#333333\", fg=\"grey\", selectbackground=\"lightblue\", cursor=\"hand2\", bd=0, yscrollcommand=Scroll.set)\n",
    "Scroll.config(command=Playlist.yview)\n",
    "Scroll.pack(side=RIGHT, fill=Y)\n",
    "Playlist.pack(side=LEFT, fill=BOTH)\n",
    " \n",
    "root.mainloop()\n"
   ]
  },
  {
   "cell_type": "code",
   "execution_count": null,
   "id": "7441a3bb",
   "metadata": {},
   "outputs": [],
   "source": []
  },
  {
   "cell_type": "code",
   "execution_count": null,
   "id": "c36b5063",
   "metadata": {},
   "outputs": [],
   "source": []
  }
 ],
 "metadata": {
  "kernelspec": {
   "display_name": "Python 3",
   "language": "python",
   "name": "python3"
  },
  "language_info": {
   "codemirror_mode": {
    "name": "ipython",
    "version": 3
   },
   "file_extension": ".py",
   "mimetype": "text/x-python",
   "name": "python",
   "nbconvert_exporter": "python",
   "pygments_lexer": "ipython3",
   "version": "3.8.8"
  }
 },
 "nbformat": 4,
 "nbformat_minor": 5
}
